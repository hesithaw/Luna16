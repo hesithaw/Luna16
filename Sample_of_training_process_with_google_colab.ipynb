{
 "cells": [
  {
   "cell_type": "markdown",
   "metadata": {
    "colab_type": "text",
    "id": "view-in-github"
   },
   "source": [
    "<a href=\"https://colab.research.google.com/github/s-mostafa-a/Luna16/blob/master/notebooks/Sample_of_training_process_with_google_colab.ipynb\" target=\"_parent\"><img src=\"https://colab.research.google.com/assets/colab-badge.svg\" alt=\"Open In Colab\"/></a>"
   ]
  },
  {
   "cell_type": "code",
   "execution_count": 47,
   "metadata": {
    "colab": {},
    "colab_type": "code",
    "id": "r4TyVxlJw1S4"
   },
   "outputs": [
    {
     "name": "stdout",
     "output_type": "stream",
     "text": [
      "D:\\Academic\\run\n"
     ]
    }
   ],
   "source": [
    "%cd ../run"
   ]
  },
  {
   "cell_type": "code",
   "execution_count": 48,
   "metadata": {
    "colab": {},
    "colab_type": "code",
    "id": "S-YELs8ZxBhV"
   },
   "outputs": [],
   "source": [
    "!mkdir output"
   ]
  },
  {
   "cell_type": "code",
   "execution_count": 49,
   "metadata": {
    "colab": {},
    "colab_type": "code",
    "id": "5p_gkGcHXBwX"
   },
   "outputs": [],
   "source": [
    "f = open(\"setup.py\", \"w+\")\n",
    "f.write(\"\"\"\n",
    "from setuptools import setup, find_packages\n",
    "setup(name='mosiluna', version='1.0', packages=find_packages())\n",
    "\"\"\")\n",
    "f.close()"
   ]
  },
  {
   "cell_type": "code",
   "execution_count": 50,
   "metadata": {
    "colab": {
     "base_uri": "https://localhost:8080/",
     "height": 85
    },
    "colab_type": "code",
    "id": "htdUiWDDWWCL",
    "outputId": "15c38f20-be63-4ebc-b31d-f36df285969e"
   },
   "outputs": [
    {
     "name": "stdout",
     "output_type": "stream",
     "text": [
      "Obtaining file:///D:/Academic/run\n",
      "Installing collected packages: mosiluna\n",
      "  Attempting uninstall: mosiluna\n",
      "    Found existing installation: mosiluna 1.0\n",
      "    Uninstalling mosiluna-1.0:\n",
      "      Successfully uninstalled mosiluna-1.0\n",
      "  Running setup.py develop for mosiluna\n",
      "Successfully installed mosiluna\n"
     ]
    }
   ],
   "source": [
    "!pip install -e ."
   ]
  },
  {
   "cell_type": "code",
   "execution_count": 51,
   "metadata": {},
   "outputs": [
    {
     "name": "stdout",
     "output_type": "stream",
     "text": [
      "D:\\Academic\n"
     ]
    }
   ],
   "source": [
    "%cd ../"
   ]
  },
  {
   "cell_type": "code",
   "execution_count": 52,
   "metadata": {
    "colab": {
     "base_uri": "https://localhost:8080/",
     "height": 54
    },
    "colab_type": "code",
    "id": "GaUYU8Nbx4Z_",
    "outputId": "833a74de-83e4-4842-8aa5-3a071ba2b7a1"
   },
   "outputs": [
    {
     "name": "stdout",
     "output_type": "stream",
     "text": [
      "['D:\\\\Academic\\\\Luna16', 'C:\\\\Users\\\\hesithaw\\\\Anaconda3\\\\python38.zip', 'C:\\\\Users\\\\hesithaw\\\\Anaconda3\\\\DLLs', 'C:\\\\Users\\\\hesithaw\\\\Anaconda3\\\\lib', 'C:\\\\Users\\\\hesithaw\\\\Anaconda3', '', 'C:\\\\Users\\\\hesithaw\\\\Anaconda3\\\\lib\\\\site-packages', 'd:\\\\academic\\\\run', 'C:\\\\Users\\\\hesithaw\\\\Anaconda3\\\\lib\\\\site-packages\\\\win32', 'C:\\\\Users\\\\hesithaw\\\\Anaconda3\\\\lib\\\\site-packages\\\\win32\\\\lib', 'C:\\\\Users\\\\hesithaw\\\\Anaconda3\\\\lib\\\\site-packages\\\\Pythonwin', 'C:\\\\Users\\\\hesithaw\\\\Anaconda3\\\\lib\\\\site-packages\\\\IPython\\\\extensions', 'C:\\\\Users\\\\hesithaw\\\\.ipython']\n"
     ]
    }
   ],
   "source": [
    "import os\n",
    "import sys\n",
    "ls = ['Luna16']\n",
    "for f in ls:\n",
    "  fp = os.path.abspath(os.path.join(f))\n",
    "  if fp not in sys.path:\n",
    "    sys.path.insert(1, fp)\n",
    "print(sys.path)"
   ]
  },
  {
   "cell_type": "code",
   "execution_count": 53,
   "metadata": {
    "colab": {
     "base_uri": "https://localhost:8080/",
     "height": 122
    },
    "colab_type": "code",
    "id": "QriL8yzHXg7k",
    "outputId": "9051cdfb-07dc-4edf-d00a-ddb663ab4c82"
   },
   "outputs": [
    {
     "name": "stdout",
     "output_type": "stream",
     "text": [
      "Requirement already satisfied: SimpleITK in c:\\users\\hesithaw\\anaconda3\\lib\\site-packages (2.0.2)\n"
     ]
    }
   ],
   "source": [
    "!pip install SimpleITK"
   ]
  },
  {
   "cell_type": "code",
   "execution_count": 54,
   "metadata": {},
   "outputs": [
    {
     "name": "stdout",
     "output_type": "stream",
     "text": [
      "D:\\Academic\\run\n"
     ]
    }
   ],
   "source": [
    "%cd run"
   ]
  },
  {
   "cell_type": "code",
   "execution_count": 55,
   "metadata": {
    "colab": {},
    "colab_type": "code",
    "id": "chenWodWadm8"
   },
   "outputs": [],
   "source": [
    "f = open(\"configs.py\", \"w+\")\n",
    "f.write(\"\"\"\n",
    "OUTPUT_PATH = 'run\\output'\n",
    "RESOURCES_PATH = 'run\\input'\n",
    "\n",
    "\n",
    "PADDING_FOR_LOCALIZATION = 10\n",
    "BLOCK_SIZE = 128\n",
    "COORDS_CUBE_SIZE = 32\n",
    "TARGET_SHAPE = (32, 32, 32, 3, 5)\n",
    "COORDS_SHAPE = (3, 32, 32, 32)\n",
    "ANCHOR_SIZES = [10, 30, 60]\n",
    "VAL_PCT = 0.5\n",
    "TOTAL_EPOCHS = 15\n",
    "DEFAULT_LR = 0.01\"\"\")\n",
    "f.close()"
   ]
  },
  {
   "cell_type": "code",
   "execution_count": 56,
   "metadata": {},
   "outputs": [
    {
     "name": "stdout",
     "output_type": "stream",
     "text": [
      "D:\\Academic\n"
     ]
    }
   ],
   "source": [
    "%cd ../"
   ]
  },
  {
   "cell_type": "code",
   "execution_count": 60,
   "metadata": {
    "colab": {},
    "colab_type": "code",
    "id": "LekqzfjzSv_Y"
   },
   "outputs": [
    {
     "name": "stdout",
     "output_type": "stream",
     "text": [
      "infected count : 61\n",
      "1.3.6.1.4.1.14519.5.2.1.6279.6001.104562737760173137525888934217\n",
      "1.3.6.1.4.1.14519.5.2.1.6279.6001.106719103982792863757268101375"
     ]
    },
    {
     "name": "stderr",
     "output_type": "stream",
     "text": [
      "D:\\Academic\\Luna16\\prepare\\utility.py:278: UserWarning: Input image is entirely zero, no valid convex hull. Returning empty image\n",
      "  lef = convex_hull_image(lef)\n",
      "D:\\Academic\\Luna16\\prepare\\utility.py:277: UserWarning: Input image is entirely zero, no valid convex hull. Returning empty image\n",
      "  rig = convex_hull_image(rig)\n",
      "D:\\Academic\\Luna16\\prepare\\utility.py:318: UserWarning: Input image is entirely zero, no valid convex hull. Returning empty image\n",
      "  return im, convex_hull_image(binary)\n"
     ]
    },
    {
     "name": "stdout",
     "output_type": "stream",
     "text": [
      "\n",
      "1.3.6.1.4.1.14519.5.2.1.6279.6001.108231420525711026834210228428\n",
      "1.3.6.1.4.1.14519.5.2.1.6279.6001.114218724025049818743426522343\n",
      "1.3.6.1.4.1.14519.5.2.1.6279.6001.121824995088859376862458155637\n",
      "1.3.6.1.4.1.14519.5.2.1.6279.6001.128059192202504367870633619224\n",
      "1.3.6.1.4.1.14519.5.2.1.6279.6001.128881800399702510818644205032\n",
      "1.3.6.1.4.1.14519.5.2.1.6279.6001.134370886216012873213579659366\n",
      "1.3.6.1.4.1.14519.5.2.1.6279.6001.145759169833745025756371695397\n",
      "1.3.6.1.4.1.14519.5.2.1.6279.6001.162718361851587451505896742103\n",
      "1.3.6.1.4.1.14519.5.2.1.6279.6001.162901839201654862079549658100\n",
      "1.3.6.1.4.1.14519.5.2.1.6279.6001.163994693532965040247348251579\n",
      "1.3.6.1.4.1.14519.5.2.1.6279.6001.168037818448885856452592057286\n",
      "1.3.6.1.4.1.14519.5.2.1.6279.6001.168605638657404145360275453085\n",
      "1.3.6.1.4.1.14519.5.2.1.6279.6001.169128136262002764211589185953\n",
      "1.3.6.1.4.1.14519.5.2.1.6279.6001.173106154739244262091404659845\n",
      "1.3.6.1.4.1.14519.5.2.1.6279.6001.179049373636438705059720603192\n",
      "1.3.6.1.4.1.14519.5.2.1.6279.6001.179162671133894061547290922949\n",
      "1.3.6.1.4.1.14519.5.2.1.6279.6001.183184435049555024219115904825\n",
      "1.3.6.1.4.1.14519.5.2.1.6279.6001.183843376225716802567192412456\n",
      "1.3.6.1.4.1.14519.5.2.1.6279.6001.193808128386712859512130599234\n",
      "1.3.6.1.4.1.14519.5.2.1.6279.6001.206539885154775002929031534291\n",
      "1.3.6.1.4.1.14519.5.2.1.6279.6001.208737629504245244513001631764\n",
      "1.3.6.1.4.1.14519.5.2.1.6279.6001.226456162308124493341905600418\n",
      "1.3.6.1.4.1.14519.5.2.1.6279.6001.231002159523969307155990628066\n",
      "1.3.6.1.4.1.14519.5.2.1.6279.6001.243094273518213382155770295147\n",
      "1.3.6.1.4.1.14519.5.2.1.6279.6001.247769845138587733933485039556\n",
      "1.3.6.1.4.1.14519.5.2.1.6279.6001.250397690690072950000431855143\n",
      "1.3.6.1.4.1.14519.5.2.1.6279.6001.259543921154154401875872845498\n",
      "1.3.6.1.4.1.14519.5.2.1.6279.6001.270390050141765094612147226290\n",
      "1.3.6.1.4.1.14519.5.2.1.6279.6001.272961322147784625028175033640\n",
      "1.3.6.1.4.1.14519.5.2.1.6279.6001.275766318636944297772360944907\n",
      "1.3.6.1.4.1.14519.5.2.1.6279.6001.282512043257574309474415322775\n",
      "1.3.6.1.4.1.14519.5.2.1.6279.6001.287966244644280690737019247886\n",
      "1.3.6.1.4.1.14519.5.2.1.6279.6001.306948744223170422945185006551\n",
      "1.3.6.1.4.1.14519.5.2.1.6279.6001.309672797925724868457151381131\n",
      "1.3.6.1.4.1.14519.5.2.1.6279.6001.310395752124284049604069960014\n",
      "1.3.6.1.4.1.14519.5.2.1.6279.6001.314789075871001236641548593165\n",
      "1.3.6.1.4.1.14519.5.2.1.6279.6001.315214756157389122376518747372\n",
      "1.3.6.1.4.1.14519.5.2.1.6279.6001.325164338773720548739146851679\n",
      "1.3.6.1.4.1.14519.5.2.1.6279.6001.326057189095429101398977448288\n",
      "1.3.6.1.4.1.14519.5.2.1.6279.6001.334105754605642100456249422350\n",
      "1.3.6.1.4.1.14519.5.2.1.6279.6001.336894364358709782463716339027\n",
      "1.3.6.1.4.1.14519.5.2.1.6279.6001.458525794434429386945463560826\n",
      "1.3.6.1.4.1.14519.5.2.1.6279.6001.479402560265137632920333093071\n",
      "1.3.6.1.4.1.14519.5.2.1.6279.6001.503980049263254396021509831276\n",
      "1.3.6.1.4.1.14519.5.2.1.6279.6001.561458563853929400124470098603\n",
      "1.3.6.1.4.1.14519.5.2.1.6279.6001.616033753016904899083676284739\n",
      "1.3.6.1.4.1.14519.5.2.1.6279.6001.655242448149322898770987310561\n",
      "1.3.6.1.4.1.14519.5.2.1.6279.6001.663019255629770796363333877035\n",
      "1.3.6.1.4.1.14519.5.2.1.6279.6001.674809958213117379592437424616\n",
      "1.3.6.1.4.1.14519.5.2.1.6279.6001.690929968028676628605553365896\n",
      "1.3.6.1.4.1.14519.5.2.1.6279.6001.756684168227383088294595834066\n",
      "1.3.6.1.4.1.14519.5.2.1.6279.6001.768276876111112560631432843476\n",
      "1.3.6.1.4.1.14519.5.2.1.6279.6001.801945620899034889998809817499\n",
      "1.3.6.1.4.1.14519.5.2.1.6279.6001.861997885565255340442123234170\n",
      "1.3.6.1.4.1.14519.5.2.1.6279.6001.892375496445736188832556446335\n",
      "1.3.6.1.4.1.14519.5.2.1.6279.6001.910607280658963002048724648683\n",
      "1.3.6.1.4.1.14519.5.2.1.6279.6001.935683764293840351008008793409\n",
      "1.3.6.1.4.1.14519.5.2.1.6279.6001.952265563663939823135367733681\n",
      "1.3.6.1.4.1.14519.5.2.1.6279.6001.970264865033574190975654369557\n",
      "cleans count : 28\n",
      "1.3.6.1.4.1.14519.5.2.1.6279.6001.100684836163890911914061745866\n",
      "1.3.6.1.4.1.14519.5.2.1.6279.6001.111017101339429664883879536171\n",
      "1.3.6.1.4.1.14519.5.2.1.6279.6001.113697708991260454310623082679\n",
      "1.3.6.1.4.1.14519.5.2.1.6279.6001.139595277234735528205899724196\n",
      "1.3.6.1.4.1.14519.5.2.1.6279.6001.140527383975300992150799777603\n",
      "1.3.6.1.4.1.14519.5.2.1.6279.6001.144943344795414353192059796098\n",
      "1.3.6.1.4.1.14519.5.2.1.6279.6001.146603910507557786636779705509\n",
      "1.3.6.1.4.1.14519.5.2.1.6279.6001.152684536713461901635595118048\n",
      "1.3.6.1.4.1.14519.5.2.1.6279.6001.161002239822118346732951898613\n",
      "1.3.6.1.4.1.14519.5.2.1.6279.6001.161073793312426102774780216551\n",
      "1.3.6.1.4.1.14519.5.2.1.6279.6001.162207236104936931957809623059\n",
      "1.3.6.1.4.1.14519.5.2.1.6279.6001.171919524048654494439256263785\n",
      "1.3.6.1.4.1.14519.5.2.1.6279.6001.184019785706727365023450012318\n",
      "1.3.6.1.4.1.14519.5.2.1.6279.6001.186021279664749879526003668137\n",
      "1.3.6.1.4.1.14519.5.2.1.6279.6001.193408384740507320589857096592\n",
      "1.3.6.1.4.1.14519.5.2.1.6279.6001.197987940182806628828566429132\n",
      "1.3.6.1.4.1.14519.5.2.1.6279.6001.200558451375970945040979397866\n",
      "1.3.6.1.4.1.14519.5.2.1.6279.6001.216652640878960522552873394709\n",
      "1.3.6.1.4.1.14519.5.2.1.6279.6001.222087811960706096424718056430\n",
      "1.3.6.1.4.1.14519.5.2.1.6279.6001.231834776365874788440767645596\n",
      "1.3.6.1.4.1.14519.5.2.1.6279.6001.259018373683540453277752706262\n",
      "1.3.6.1.4.1.14519.5.2.1.6279.6001.286647622786041008124419915089\n",
      "1.3.6.1.4.1.14519.5.2.1.6279.6001.300271604576987336866436407488\n",
      "1.3.6.1.4.1.14519.5.2.1.6279.6001.308183340111270052562662456038\n",
      "1.3.6.1.4.1.14519.5.2.1.6279.6001.331211682377519763144559212009\n",
      "1.3.6.1.4.1.14519.5.2.1.6279.6001.335866409407244673864352309754\n",
      "1.3.6.1.4.1.14519.5.2.1.6279.6001.802595762867498341201607992711\n",
      "1.3.6.1.4.1.14519.5.2.1.6279.6001.888291896309937415860209787179\n"
     ]
    }
   ],
   "source": [
    "!python ./Luna16/prepare/run_preprocess.py"
   ]
  },
  {
   "cell_type": "code",
   "execution_count": 61,
   "metadata": {
    "colab": {},
    "colab_type": "code",
    "id": "ZZivro3dxSe4"
   },
   "outputs": [],
   "source": [
    "!python ./Luna16/prepare/run_augmentation.py"
   ]
  },
  {
   "cell_type": "code",
   "execution_count": 41,
   "metadata": {},
   "outputs": [
    {
     "name": "stdout",
     "output_type": "stream",
     "text": [
      "Collecting torchvisionNote: you may need to restart the kernel to use updated packages.\n",
      "\n",
      "  Downloading torchvision-0.9.1-cp38-cp38-win_amd64.whl (852 kB)\n",
      "Collecting torch==1.8.1\n",
      "  Downloading torch-1.8.1-cp38-cp38-win_amd64.whl (190.5 MB)\n",
      "Requirement already satisfied: pillow>=4.1.1 in c:\\users\\hesithaw\\anaconda3\\lib\\site-packages (from torchvision) (8.0.1)\n",
      "Requirement already satisfied: numpy in c:\\users\\hesithaw\\anaconda3\\lib\\site-packages (from torchvision) (1.19.2)\n",
      "Requirement already satisfied: typing-extensions in c:\\users\\hesithaw\\anaconda3\\lib\\site-packages (from torch==1.8.1->torchvision) (3.7.4.3)\n",
      "Installing collected packages: torch, torchvision\n",
      "Successfully installed torch-1.8.1 torchvision-0.9.1\n"
     ]
    }
   ],
   "source": [
    "pip install torchvision "
   ]
  },
  {
   "cell_type": "code",
   "execution_count": 62,
   "metadata": {
    "colab": {
     "base_uri": "https://localhost:8080/",
     "height": 1000
    },
    "colab_type": "code",
    "id": "3ogr5ZlDBWc4",
    "outputId": "dfd8ef90-19da-4562-de93-ddf2d96c3e15"
   },
   "outputs": [
    {
     "name": "stdout",
     "output_type": "stream",
     "text": [
      "net_name = \n",
      "Training from epoch: 0 towards: 15,\n",
      "with learning rate starting from: 0.01, and loss: None\n",
      "Epoch 0 (lr 0.01)\n",
      "Train: tpr 0.0,\n",
      "tnr 0.0,\n",
      "total pos 1.0, total neg 2.0,\n",
      "time 9.403528451919556\n",
      "loss 7.06659460067749, classify loss 0.45963752269744873,\n",
      "regress loss 2.104823350906372, 0.05344302952289581,\n",
      "0.946387767791748, 3.502303123474121\n",
      "time 311.46574783325195\n",
      "loss 155656.265625, classify loss 4.088306903839111,\n",
      "regress loss 5386.974609375, 24683.111328125,\n",
      "48826.03515625, 76756.0625\n",
      "Epoch 1 (lr 0.01)\n",
      "Train: tpr 100.0,\n",
      "tnr 0.0,\n",
      "total pos 1.0, total neg 2.0,\n",
      "time 11.971163749694824\n",
      "loss 4.50468635559082, classify loss 0.2098815143108368,\n",
      "regress loss 1.2642993927001953, 0.782773494720459,\n",
      "1.0208845138549805, 1.2268474102020264\n",
      "time 348.6965973377228\n",
      "loss 1197285760.0, classify loss 21.452251434326172,\n",
      "regress loss 351405888.0, 148578752.0,\n",
      "150070912.0, 547230400.0\n",
      "Epoch 2 (lr 0.01)\n",
      "Train: tpr 100.0,\n",
      "tnr 0.0,\n",
      "total pos 1.0, total neg 2.0,\n",
      "time 12.207556009292603\n",
      "loss 1.837004542350769, classify loss 0.10636469721794128,\n",
      "regress loss 0.610388994216919, 0.7003672122955322,\n",
      "0.0634433925151825, 0.3564401865005493\n",
      "time 315.81522011756897\n",
      "loss 30240342016.0, classify loss 21.451234817504883,\n",
      "regress loss 9601208320.0, 4717872640.0,\n",
      "1339678208.0, 14581583872.0\n",
      "Epoch 3 (lr 0.01)\n",
      "Train: tpr 100.0,\n",
      "tnr 0.0,\n",
      "total pos 1.0, total neg 2.0,\n",
      "time 12.251887798309326\n",
      "loss 2.5724411010742188, classify loss 0.17904651165008545,\n",
      "regress loss 0.1625925451517105, 0.6487222909927368,\n",
      "0.0433805026113987, 1.5386993885040283\n",
      "time 320.98297119140625\n",
      "loss 17205028864.0, classify loss 19.67145347595215,\n",
      "regress loss 5565120512.0, 1772138240.0,\n",
      "1280459904.0, 8587309056.0\n",
      "Epoch 4 (lr 0.01)\n",
      "Train: tpr 100.0,\n",
      "tnr 0.0,\n",
      "total pos 1.0, total neg 2.0,\n",
      "time 12.938243865966797\n",
      "loss 1.9245295524597168, classify loss 0.0689903274178505,\n",
      "regress loss 0.996574878692627, 0.21704870462417603,\n",
      "0.13939407467842102, 0.5025215148925781\n",
      "time 318.7569348812103\n",
      "loss 4079888896.0, classify loss 3.8284919261932373,\n",
      "regress loss 1054811072.0, 563337792.0,\n",
      "215504464.0, 2246235648.0\n",
      "Epoch 5 (lr 0.01)\n",
      "Train: tpr 100.0,\n",
      "tnr 0.0,\n",
      "total pos 1.0, total neg 2.0,\n",
      "time 12.681884765625\n",
      "loss 3.390719413757324, classify loss 0.10082458704710007,\n",
      "regress loss 0.20354673266410828, 0.7783308029174805,\n",
      "0.5277481079101562, 1.7802691459655762\n",
      "time 313.96469926834106\n",
      "loss 1342304000.0, classify loss 0.0,\n",
      "regress loss 54527652.0, 579787584.0,\n",
      "208702032.0, 499286816.0\n",
      "Epoch 6 (lr 0.01)\n",
      "Train: tpr 100.0,\n",
      "tnr 0.0,\n",
      "total pos 1.0, total neg 2.0,\n",
      "time 12.32717776298523\n",
      "loss 2.341217517852783, classify loss 0.2561047673225403,\n",
      "regress loss 0.26249751448631287, 0.069673091173172,\n",
      "0.007401570677757263, 1.7455406188964844\n",
      "time 315.69773054122925\n",
      "loss 843813376.0, classify loss 0.0020700437016785145,\n",
      "regress loss 75044128.0, 400935616.0,\n",
      "133123840.0, 234709824.0\n",
      "Epoch 7 (lr 0.01)\n",
      "Train: tpr 100.0,\n",
      "tnr 0.0,\n",
      "total pos 1.0, total neg 2.0,\n",
      "time 13.005468368530273\n",
      "loss 0.45133793354034424, classify loss 0.22009478509426117,\n",
      "regress loss 0.06747020035982132, 0.031583867967128754,\n",
      "0.08405204117298126, 0.048137012869119644\n",
      "time 315.79967737197876\n",
      "loss 723138816.0, classify loss 0.04860034957528114,\n",
      "regress loss 81048512.0, 335228960.0,\n",
      "116251560.0, 190609840.0\n",
      "Epoch 8 (lr 0.001)\n",
      "Train: tpr 100.0,\n",
      "tnr 0.0,\n",
      "total pos 1.0, total neg 2.0,\n",
      "time 11.725895404815674\n",
      "loss 2.9444069862365723, classify loss 0.06198812648653984,\n",
      "regress loss 1.052424430847168, 0.5478482246398926,\n",
      "0.005915723741054535, 1.2762303352355957\n",
      "time 319.8053991794586\n",
      "loss 64214108.0, classify loss 0.04066073149442673,\n",
      "regress loss 6345133.0, 29174432.0,\n",
      "10189776.0, 18504762.0\n",
      "Epoch 9 (lr 0.001)\n",
      "Train: tpr 100.0,\n",
      "tnr 0.0,\n",
      "total pos 1.0, total neg 2.0,\n",
      "time 12.435131311416626\n",
      "loss 2.7140750885009766, classify loss 0.11056321114301682,\n",
      "regress loss 0.895808219909668, 1.827667983889114e-05,\n",
      "0.17667710781097412, 1.531008243560791\n",
      "time 320.8313114643097\n",
      "loss 10691514.0, classify loss 0.023450050503015518,\n",
      "regress loss 1174219.375, 4788137.0,\n",
      "1764019.625, 2965138.5\n",
      "Epoch 10 (lr 0.001)\n",
      "Train: tpr 100.0,\n",
      "tnr 0.0,\n",
      "total pos 1.0, total neg 2.0,\n",
      "time 12.910391807556152\n",
      "loss 0.5610981583595276, classify loss 0.21947726607322693,\n",
      "regress loss 0.149735227227211, 0.1689426302909851,\n",
      "0.022933535277843475, 9.458944987272844e-06\n",
      "time 322.4710874557495\n",
      "loss 2603866.25, classify loss 0.019625304266810417,\n",
      "regress loss 317742.03125, 1158705.625,\n",
      "444746.6875, 682671.625\n",
      "Epoch 11 (lr 0.001)\n",
      "Train: tpr 100.0,\n",
      "tnr 0.0,\n",
      "total pos 1.0, total neg 2.0,\n",
      "time 13.25563383102417\n",
      "loss 0.24821066856384277, classify loss 0.0953511968255043,\n",
      "regress loss 0.0001828050153562799, 0.10532999038696289,\n",
      "0.021475613117218018, 0.025871066376566887\n",
      "time 322.039422750473\n",
      "loss 813496.625, classify loss 0.016525372862815857,\n",
      "regress loss 109477.65625, 360275.09375,\n",
      "143466.546875, 200277.40625\n",
      "Epoch 12 (lr 0.001)\n",
      "Train: tpr 100.0,\n",
      "tnr 0.0,\n",
      "total pos 1.0, total neg 2.0,\n",
      "time 12.449070453643799\n",
      "loss 0.10740344971418381, classify loss 0.09203081578016281,\n",
      "regress loss 0.003446830902248621, 0.0006956913275644183,\n",
      "0.0029756096191704273, 0.008254499174654484\n",
      "time 320.079794883728\n",
      "loss 303371.125, classify loss 0.009050820022821426,\n",
      "regress loss 44467.20703125, 133803.03125,\n",
      "55156.2265625, 69944.6328125\n",
      "Epoch 13 (lr 0.0001)\n",
      "Train: tpr 100.0,\n",
      "tnr 0.0,\n",
      "total pos 1.0, total neg 2.0,\n",
      "time 12.889631271362305\n",
      "loss 0.21372951567173004, classify loss 0.09076515585184097,\n",
      "regress loss 0.01708930730819702, 0.00732733029872179,\n",
      "0.09581758826971054, 0.0027301281224936247\n",
      "time 322.6147668361664\n",
      "loss 117093.640625, classify loss 0.004553673788905144,\n",
      "regress loss 17175.451171875, 51408.578125,\n",
      "21524.080078125, 26985.52734375\n",
      "Epoch 14 (lr 0.0001)\n",
      "Train: tpr 100.0,\n",
      "tnr 0.0,\n",
      "total pos 1.0, total neg 2.0,\n",
      "time 13.255627393722534\n",
      "loss 0.22742600739002228, classify loss 0.16349808871746063,\n",
      "regress loss 0.0005876552895642817, 0.005409137811511755,\n",
      "0.0009262942476198077, 0.05700482800602913\n",
      "time 324.5188407897949\n",
      "loss 53210.44921875, classify loss 0.0038804763462394476,\n",
      "regress loss 7826.8046875, 23277.119140625,\n",
      "9882.2392578125, 12224.2861328125\n"
     ]
    }
   ],
   "source": [
    "!python ./Luna16/main/train.py"
   ]
  },
  {
   "cell_type": "code",
   "execution_count": null,
   "metadata": {
    "colab": {},
    "colab_type": "code",
    "id": "JFpJJXkvcrgL"
   },
   "outputs": [],
   "source": []
  }
 ],
 "metadata": {
  "accelerator": "GPU",
  "colab": {
   "authorship_tag": "ABX9TyNuDmMvMBzbNGdxTXJXtAYo",
   "collapsed_sections": [],
   "include_colab_link": true,
   "name": "Sample_of_training_process_with_google_colab.ipynb",
   "provenance": []
  },
  "kernelspec": {
   "display_name": "Python 3",
   "language": "python",
   "name": "python3"
  },
  "language_info": {
   "codemirror_mode": {
    "name": "ipython",
    "version": 3
   },
   "file_extension": ".py",
   "mimetype": "text/x-python",
   "name": "python",
   "nbconvert_exporter": "python",
   "pygments_lexer": "ipython3",
   "version": "3.8.5"
  }
 },
 "nbformat": 4,
 "nbformat_minor": 1
}
